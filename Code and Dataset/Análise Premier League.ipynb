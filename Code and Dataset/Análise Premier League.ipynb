{
 "cells": [
  {
   "cell_type": "markdown",
   "metadata": {},
   "source": [
    "# Premier League"
   ]
  },
  {
   "cell_type": "markdown",
   "metadata": {},
   "source": [
    "<font color = black size=4> A **Premier League** é a um dos campeonatos de futebol mais conhecidos e amados do mundo e muitas pessoas acompanham quase que religiosamente as partidas, torcendo dentre os 20 times que a disputam. É a primeira divisão do campeonato, onde somente os melhores time da Inglaterra podem alcançar! A ascenção dos times ingleses se deu pois vários bilionários se tornaram donos de clubes e investiram para torna-los melhores, tais como Manchester City, Chelsea e Tottenham. Dito isto, eu peguei os questionamentos do Kaggle, onde também contém o <a href='https://www.kaggle.com/aj7amigo/english-premier-league-data-2009-2019'>Dataset</a>, para analisar as características das partidas  </font>"
   ]
  },
  {
   "cell_type": "markdown",
   "metadata": {},
   "source": [
    "# Importando as bibliotecas"
   ]
  },
  {
   "cell_type": "code",
   "execution_count": 1,
   "metadata": {},
   "outputs": [],
   "source": [
    "import pandas as pd\n",
    "import matplotlib.pyplot as plt\n",
    "import seaborn as sns\n",
    "%matplotlib inline"
   ]
  },
  {
   "cell_type": "markdown",
   "metadata": {},
   "source": [
    "# Lendo os dados"
   ]
  },
  {
   "cell_type": "code",
   "execution_count": 2,
   "metadata": {},
   "outputs": [
    {
     "data": {
      "text/html": [
       "<div>\n",
       "<style scoped>\n",
       "    .dataframe tbody tr th:only-of-type {\n",
       "        vertical-align: middle;\n",
       "    }\n",
       "\n",
       "    .dataframe tbody tr th {\n",
       "        vertical-align: top;\n",
       "    }\n",
       "\n",
       "    .dataframe thead th {\n",
       "        text-align: right;\n",
       "    }\n",
       "</style>\n",
       "<table border=\"1\" class=\"dataframe\">\n",
       "  <thead>\n",
       "    <tr style=\"text-align: right;\">\n",
       "      <th></th>\n",
       "      <th>Div</th>\n",
       "      <th>Date</th>\n",
       "      <th>HomeTeam</th>\n",
       "      <th>AwayTeam</th>\n",
       "      <th>FTHG</th>\n",
       "      <th>FTAG</th>\n",
       "      <th>FTR</th>\n",
       "      <th>HTHG</th>\n",
       "      <th>HTAG</th>\n",
       "      <th>HTR</th>\n",
       "      <th>...</th>\n",
       "      <th>HST</th>\n",
       "      <th>AST</th>\n",
       "      <th>HF</th>\n",
       "      <th>AF</th>\n",
       "      <th>HC</th>\n",
       "      <th>AC</th>\n",
       "      <th>HY</th>\n",
       "      <th>AY</th>\n",
       "      <th>HR</th>\n",
       "      <th>AR</th>\n",
       "    </tr>\n",
       "  </thead>\n",
       "  <tbody>\n",
       "    <tr>\n",
       "      <th>0</th>\n",
       "      <td>E0</td>\n",
       "      <td>2009-08-15 00:00:00</td>\n",
       "      <td>Aston Villa</td>\n",
       "      <td>Wigan</td>\n",
       "      <td>0</td>\n",
       "      <td>2</td>\n",
       "      <td>A</td>\n",
       "      <td>0</td>\n",
       "      <td>1</td>\n",
       "      <td>A</td>\n",
       "      <td>...</td>\n",
       "      <td>5</td>\n",
       "      <td>7</td>\n",
       "      <td>15</td>\n",
       "      <td>14</td>\n",
       "      <td>4</td>\n",
       "      <td>6</td>\n",
       "      <td>2</td>\n",
       "      <td>2</td>\n",
       "      <td>0</td>\n",
       "      <td>0</td>\n",
       "    </tr>\n",
       "    <tr>\n",
       "      <th>1</th>\n",
       "      <td>E0</td>\n",
       "      <td>2009-08-15 00:00:00</td>\n",
       "      <td>Blackburn</td>\n",
       "      <td>Man City</td>\n",
       "      <td>0</td>\n",
       "      <td>2</td>\n",
       "      <td>A</td>\n",
       "      <td>0</td>\n",
       "      <td>1</td>\n",
       "      <td>A</td>\n",
       "      <td>...</td>\n",
       "      <td>9</td>\n",
       "      <td>5</td>\n",
       "      <td>12</td>\n",
       "      <td>9</td>\n",
       "      <td>5</td>\n",
       "      <td>4</td>\n",
       "      <td>2</td>\n",
       "      <td>1</td>\n",
       "      <td>0</td>\n",
       "      <td>0</td>\n",
       "    </tr>\n",
       "    <tr>\n",
       "      <th>2</th>\n",
       "      <td>E0</td>\n",
       "      <td>2009-08-15 00:00:00</td>\n",
       "      <td>Bolton</td>\n",
       "      <td>Sunderland</td>\n",
       "      <td>0</td>\n",
       "      <td>1</td>\n",
       "      <td>A</td>\n",
       "      <td>0</td>\n",
       "      <td>1</td>\n",
       "      <td>A</td>\n",
       "      <td>...</td>\n",
       "      <td>3</td>\n",
       "      <td>13</td>\n",
       "      <td>16</td>\n",
       "      <td>10</td>\n",
       "      <td>4</td>\n",
       "      <td>7</td>\n",
       "      <td>2</td>\n",
       "      <td>1</td>\n",
       "      <td>0</td>\n",
       "      <td>0</td>\n",
       "    </tr>\n",
       "  </tbody>\n",
       "</table>\n",
       "<p>3 rows × 23 columns</p>\n",
       "</div>"
      ],
      "text/plain": [
       "  Div                 Date     HomeTeam    AwayTeam  FTHG  FTAG FTR  HTHG  \\\n",
       "0  E0  2009-08-15 00:00:00  Aston Villa       Wigan     0     2   A     0   \n",
       "1  E0  2009-08-15 00:00:00    Blackburn    Man City     0     2   A     0   \n",
       "2  E0  2009-08-15 00:00:00       Bolton  Sunderland     0     1   A     0   \n",
       "\n",
       "   HTAG HTR  ... HST  AST  HF  AF  HC  AC  HY  AY  HR  AR  \n",
       "0     1   A  ...   5    7  15  14   4   6   2   2   0   0  \n",
       "1     1   A  ...   9    5  12   9   5   4   2   1   0   0  \n",
       "2     1   A  ...   3   13  16  10   4   7   2   1   0   0  \n",
       "\n",
       "[3 rows x 23 columns]"
      ]
     },
     "execution_count": 2,
     "metadata": {},
     "output_type": "execute_result"
    }
   ],
   "source": [
    "dados_partida = pd.read_csv('English_Premier_League_data_2009-2019.csv')\n",
    "dados_partida.head(3)"
   ]
  },
  {
   "cell_type": "markdown",
   "metadata": {},
   "source": [
    "# Tratamento dos dados (tradução)"
   ]
  },
  {
   "cell_type": "code",
   "execution_count": 3,
   "metadata": {},
   "outputs": [],
   "source": [
    "#Excluindo uma variável que não utilizaremos e traduzindo nome das colunas\n",
    "dados_partida.drop('Div', inplace=True, axis=1) \n",
    "dados_partida.columns = ['Data','Time_casa','Time_fora','Gols_90min_casa','Gols_90min_fora','Vencedor_90min','Gols_45min_casa',\n",
    "       'Gols_45min_fora','Vencedor_45min','Juiz','Chutes_casa','Chutes_fora','Chutes_certos_casa','Chutes_certos_fora',\n",
    "       'Faltas_casa','Faltas_fora','Escanteio_casa','Escanteio_fora','Amarelo_casa','Amarelo_fora','Vermelho_casa','Vermelho_fora']"
   ]
  },
  {
   "cell_type": "code",
   "execution_count": 4,
   "metadata": {},
   "outputs": [],
   "source": [
    "#Traduzindo valor dos registros das variáveis\n",
    "dados_partida.Vencedor_90min.replace(['H','A','D'],['Casa','Fora','Empate'], inplace=True)\n",
    "dados_partida.Vencedor_45min.replace(['H','A','D'],['Casa','Fora','Empate'], inplace=True)"
   ]
  },
  {
   "cell_type": "markdown",
   "metadata": {},
   "source": [
    "# Legenda\n",
    "\n",
    "Data - Data que ocorreu o jogo <br>\n",
    "Time_casa - Time que jogou como mandante<br>\n",
    "Time_fora - Time que jogou como visitante<br>\n",
    "Gols_90min_casa - Gols do time mandatante no jogo inteiro<br>\n",
    "Gols_90min_fora - Gols do time visitante no jogo inteiro<br>\n",
    "Vencedor_90min - Resultado Final (Casa - Time mandante ganhou, Fora - Time visitante ganhou, Empate - Bem intuitivo, né?)<br>\n",
    "Gols_45min_casa - Gols no 1° tempo do time mandante<br>\n",
    "Gols_45min_fora - Gols no 1° tempo do time visitante<br>\n",
    "Vencedor_45min - Resultado 1° tempo - (Casa - Time mandante ganhou, Fora - Time visitante ganhou, Empate - Já sabem)<br>\n",
    "Juíz - Nome do juíz que apitou a partida<br>\n",
    "Chutes_casa - Total de chutes do time mandante<br>\n",
    "Chutes_fora - Total de chutes do time visitante<br>\n",
    "Chutes_certos_casa - Total chutes no gol do time mandante<br>\n",
    "Chutes_certos_fora - Total chutes no gol do time visitante<br>\n",
    "Faltas_casa - Total de faltas cometidas pelo time mandante<br>\n",
    "Faltas_fora - Total de faltas cometidas pelo time visitante<br>\n",
    "Escanteio_casa - Total de escanteios de ataque para o time mandante (concedidos pelo time visitante)<br>\n",
    "Escanteio_fora - Total de escanteios de ataque para o time visitante (concedidos pelo time mandante)<br>\n",
    "Amarelo_casa - Total de cartões amarelo recebido pelo time mandante<br>\n",
    "Amarelo_fora - Total de cartões amarelo recebido pelo time visitantes<br>\n",
    "Vermelho_casa - Total de cartões vermelho recebido pelo time mandante<br>\n",
    "Vermelho_fora - Total de cartões vermelho recebido pelo time visitante<br>"
   ]
  },
  {
   "cell_type": "code",
   "execution_count": 5,
   "metadata": {},
   "outputs": [],
   "source": [
    "#Iremos excluir essas colunas pois não utilizaremos nessa análise.\n",
    "\n",
    "dados_partida = dados_partida.drop(['Vermelho_fora','Vermelho_casa','Amarelo_fora','Amarelo_casa','Escanteio_fora','Escanteio_casa',\n",
    "                                    'Faltas_fora','Faltas_casa','Chutes_certos_fora','Chutes_certos_casa','Chutes_fora','Chutes_casa'],axis=1)"
   ]
  },
  {
   "cell_type": "code",
   "execution_count": 6,
   "metadata": {
    "scrolled": true
   },
   "outputs": [
    {
     "name": "stdout",
     "output_type": "stream",
     "text": [
      "<class 'pandas.core.frame.DataFrame'>\n",
      "RangeIndex: 3800 entries, 0 to 3799\n",
      "Data columns (total 10 columns):\n",
      " #   Column           Non-Null Count  Dtype \n",
      "---  ------           --------------  ----- \n",
      " 0   Data             3800 non-null   object\n",
      " 1   Time_casa        3800 non-null   object\n",
      " 2   Time_fora        3800 non-null   object\n",
      " 3   Gols_90min_casa  3800 non-null   int64 \n",
      " 4   Gols_90min_fora  3800 non-null   int64 \n",
      " 5   Vencedor_90min   3800 non-null   object\n",
      " 6   Gols_45min_casa  3800 non-null   int64 \n",
      " 7   Gols_45min_fora  3800 non-null   int64 \n",
      " 8   Vencedor_45min   3800 non-null   object\n",
      " 9   Juiz             3800 non-null   object\n",
      "dtypes: int64(4), object(6)\n",
      "memory usage: 297.0+ KB\n"
     ]
    }
   ],
   "source": [
    "dados_partida.info()"
   ]
  },
  {
   "cell_type": "markdown",
   "metadata": {},
   "source": [
    "# Análise Exploratória de dados "
   ]
  },
  {
   "cell_type": "markdown",
   "metadata": {},
   "source": [
    "### Quantas partidas foram jogadas entre 2009 e 2019 na PL?\n"
   ]
  },
  {
   "cell_type": "code",
   "execution_count": 7,
   "metadata": {},
   "outputs": [
    {
     "data": {
      "text/plain": [
       "3800"
      ]
     },
     "execution_count": 7,
     "metadata": {},
     "output_type": "execute_result"
    }
   ],
   "source": [
    "dados_partida.shape[0]"
   ]
  },
  {
   "cell_type": "markdown",
   "metadata": {},
   "source": [
    "### Quais e quantos times jogaram a PL durante essas 10 temporadas?\n"
   ]
  },
  {
   "cell_type": "code",
   "execution_count": 8,
   "metadata": {},
   "outputs": [
    {
     "name": "stdout",
     "output_type": "stream",
     "text": [
      "36 times jogaram a PL nas últimas 10 temporadas\n",
      "Esses times participaram do campeonato:                  0\n",
      "0      Aston Villa\n",
      "1        Blackburn\n",
      "2           Bolton\n",
      "3          Chelsea\n",
      "4          Everton\n",
      "5       Portsmouth\n",
      "6            Stoke\n",
      "7           Wolves\n",
      "8       Man United\n",
      "9        Tottenham\n",
      "10      Sunderland\n",
      "11           Wigan\n",
      "12      Birmingham\n",
      "13         Burnley\n",
      "14            Hull\n",
      "15       Liverpool\n",
      "16         Arsenal\n",
      "17        Man City\n",
      "18          Fulham\n",
      "19        West Ham\n",
      "20       West Brom\n",
      "21       Newcastle\n",
      "22       Blackpool\n",
      "23             QPR\n",
      "24         Swansea\n",
      "25         Norwich\n",
      "26         Reading\n",
      "27     Southampton\n",
      "28  Crystal Palace\n",
      "29         Cardiff\n",
      "30       Leicester\n",
      "31     Bournemouth\n",
      "32         Watford\n",
      "33   Middlesbrough\n",
      "34        Brighton\n",
      "35    Huddersfield\n"
     ]
    }
   ],
   "source": [
    "total_times = dados_partida.Time_casa.unique()\n",
    "total_times = pd.DataFrame(total_times)\n",
    "\n",
    "print('{} times jogaram a PL nas últimas 10 temporadas'.format(total_times.count().values[0]))\n",
    "print('Esses times participaram do campeonato: {}'.format((total_times)))"
   ]
  },
  {
   "cell_type": "markdown",
   "metadata": {},
   "source": [
    "### Quantas partidas foram jogadas por cada time nas últimas 10 temporadas?\n"
   ]
  },
  {
   "cell_type": "code",
   "execution_count": 9,
   "metadata": {},
   "outputs": [
    {
     "data": {
      "text/plain": [
       "Everton           380\n",
       "Man City          380\n",
       "Tottenham         380\n",
       "Chelsea           380\n",
       "Liverpool         380\n",
       "Arsenal           380\n",
       "Man United        380\n",
       "West Ham          342\n",
       "Stoke             342\n",
       "Sunderland        304\n",
       "West Brom         304\n",
       "Newcastle         304\n",
       "Aston Villa       266\n",
       "Swansea           266\n",
       "Southampton       266\n",
       "Crystal Palace    228\n",
       "Fulham            228\n",
       "Leicester         190\n",
       "Burnley           190\n",
       "Wigan             152\n",
       "Norwich           152\n",
       "Bournemouth       152\n",
       "Hull              152\n",
       "Wolves            152\n",
       "Watford           152\n",
       "Blackburn         114\n",
       "Bolton            114\n",
       "QPR               114\n",
       "Cardiff            76\n",
       "Brighton           76\n",
       "Huddersfield       76\n",
       "Birmingham         76\n",
       "Middlesbrough      38\n",
       "Blackpool          38\n",
       "Reading            38\n",
       "Portsmouth         38\n",
       "dtype: int64"
      ]
     },
     "execution_count": 9,
     "metadata": {},
     "output_type": "execute_result"
    }
   ],
   "source": [
    "partidas_total = dados_partida.Time_casa.value_counts()+dados_partida.Time_fora.value_counts()\n",
    "partidas_total"
   ]
  },
  {
   "cell_type": "markdown",
   "metadata": {},
   "source": [
    "### Quais times participaram de todas as últimas 10 temporadas da PL?\n"
   ]
  },
  {
   "cell_type": "code",
   "execution_count": 10,
   "metadata": {},
   "outputs": [
    {
     "data": {
      "text/plain": [
       "0       Everton\n",
       "1      Man City\n",
       "2     Tottenham\n",
       "3       Chelsea\n",
       "4     Liverpool\n",
       "5       Arsenal\n",
       "6    Man United\n",
       "Name: index, dtype: object"
      ]
     },
     "execution_count": 10,
     "metadata": {},
     "output_type": "execute_result"
    }
   ],
   "source": [
    "# Como cada temporada tem 38 jogos, sendo metade como mandante e metade como visitante, pode-se concluir que:\n",
    "# Se um time em 10 temporadas tem 190 jogos como mandante, significa que também tem 190 jogos como visitante, totalizando \n",
    "# o máximo de jogos que um time pode jogar em 10 temporadas.\n",
    "\n",
    "times_jogos_casa = dados_partida.Time_casa.value_counts().reset_index()\n",
    "\n",
    "melhores_times = times_jogos_casa.query('Time_casa==190')\n",
    "melhores_times['index']"
   ]
  },
  {
   "cell_type": "markdown",
   "metadata": {},
   "source": [
    "### Quais times jogaram só uma  temporada?"
   ]
  },
  {
   "cell_type": "code",
   "execution_count": 11,
   "metadata": {},
   "outputs": [
    {
     "data": {
      "text/plain": [
       "32    Middlesbrough\n",
       "33        Blackpool\n",
       "34          Reading\n",
       "35       Portsmouth\n",
       "Name: index, dtype: object"
      ]
     },
     "execution_count": 11,
     "metadata": {},
     "output_type": "execute_result"
    }
   ],
   "source": [
    "#Seguindo o raciocínio da pergunta anterior, para um time jogar só uma temporada, ele tem que ter no máximo 38 partidas, sendo\n",
    "#19 como visitante e 19 como mandante\n",
    "\n",
    "piores_times = times_jogos_casa.query('Time_casa==19')\n",
    "piores_times['index']"
   ]
  },
  {
   "cell_type": "markdown",
   "metadata": {},
   "source": [
    "### Qual a porcentagem de jogos ganhos por times mandantes, visitantes e/ou empates?\n"
   ]
  },
  {
   "cell_type": "code",
   "execution_count": 12,
   "metadata": {},
   "outputs": [
    {
     "data": {
      "text/plain": [
       "Casa      46.263158\n",
       "Fora      29.000000\n",
       "Empate    24.736842\n",
       "Name: Vencedor_90min, dtype: float64"
      ]
     },
     "execution_count": 12,
     "metadata": {},
     "output_type": "execute_result"
    }
   ],
   "source": [
    "percentual_vitoria = dados_partida.Vencedor_90min.value_counts(normalize=True)*100\n",
    "percentual_vitoria"
   ]
  },
  {
   "cell_type": "code",
   "execution_count": 13,
   "metadata": {},
   "outputs": [
    {
     "data": {
      "image/png": "[encoded data removed]",
      "text/plain": [
       "<Figure size 360x360 with 1 Axes>"
      ]
     },
     "metadata": {},
     "output_type": "display_data"
    }
   ],
   "source": [
    "resultados_porcentagem = pd.DataFrame(percentual_vitoria)\n",
    "labels=['Mandante','Visitante','Empate']\n",
    "\n",
    "resultados_porcentagem.plot(kind='pie', y='Vencedor_90min',\n",
    "                            labels=labels, legend=False,\n",
    "                            autopct='%1.1f%%',fontsize=14,\n",
    "                           figsize=(5,5))\n",
    "plt.title('Percentual do resultado do jogo por mando de campo', fontsize=20)\n",
    "plt.ylabel('Percentual', fontsize=14);\n"
   ]
  },
  {
   "cell_type": "markdown",
   "metadata": {},
   "source": [
    "### Quantos juízes apitaram os jogos entre 2009 e 2019?\n"
   ]
  },
  {
   "cell_type": "code",
   "execution_count": 14,
   "metadata": {},
   "outputs": [
    {
     "data": {
      "text/plain": [
       "30"
      ]
     },
     "execution_count": 14,
     "metadata": {},
     "output_type": "execute_result"
    }
   ],
   "source": [
    "juizes = dados_partida.Juiz.unique()\n",
    "pd.DataFrame(juizes).count()[0]"
   ]
  },
  {
   "cell_type": "markdown",
   "metadata": {},
   "source": [
    "### Liste-os com o total de partidas apitadas\n"
   ]
  },
  {
   "cell_type": "code",
   "execution_count": 15,
   "metadata": {},
   "outputs": [
    {
     "data": {
      "text/plain": [
       "M Dean           291\n",
       "M Atkinson       280\n",
       "A Marriner       253\n",
       "M Oliver         234\n",
       "A Taylor         226\n",
       "L Mason          222\n",
       "M Clattenburg    206\n",
       "K Friend         204\n",
       "J Moss           200\n",
       "M Jones          190\n",
       "L Probert        159\n",
       "P Dowd           159\n",
       "H Webb           147\n",
       "C Foy            135\n",
       "C Pawson         134\n",
       "N Swarbrick      132\n",
       "R East            91\n",
       "R Madley          91\n",
       "S Attwell         89\n",
       "P Walton          69\n",
       "M Halsey          61\n",
       "P Tierney         55\n",
       "G Scott           50\n",
       "C Kavanagh        40\n",
       "S Bennett         29\n",
       "A Wiley           26\n",
       "D Coote           12\n",
       "S Hooper          10\n",
       "K Stroud           3\n",
       "A Madley           2\n",
       "Name: Juiz, dtype: int64"
      ]
     },
     "execution_count": 15,
     "metadata": {},
     "output_type": "execute_result"
    }
   ],
   "source": [
    "contagem_juizes = dados_partida.Juiz.value_counts()\n",
    "contagem_juizes"
   ]
  },
  {
   "cell_type": "code",
   "execution_count": 16,
   "metadata": {},
   "outputs": [
    {
     "data": {
      "text/plain": [
       "<seaborn.axisgrid.FacetGrid at 0x200e37da288>"
      ]
     },
     "execution_count": 16,
     "metadata": {},
     "output_type": "execute_result"
    },
    {
     "data": {
      "image/png": "[encoded data removed]",
      "text/plain": [
       "<Figure size 1008x504 with 1 Axes>"
      ]
     },
     "metadata": {
      "needs_background": "light"
     },
     "output_type": "display_data"
    }
   ],
   "source": [
    "#contagem_juizes.plot(kind='bar',figsize=(10,7))\n",
    "\n",
    "palette = sns.cubehelix_palette(30, start=2, rot=0, dark=0, light=.95, reverse=True)\n",
    "ax = sns.catplot(y=\"Juiz\", kind=\"count\", palette=palette, data=dados_partida,\n",
    "            height=7, aspect=2, order = contagem_juizes.index)\n",
    "ax.set_axis_labels(\"Contagem\", \"Juiz\")"
   ]
  },
  {
   "cell_type": "markdown",
   "metadata": {},
   "source": [
    "### Em quantos jogos os times que estavam perdendo no 1tempo, ganharam o jogo no final?(vitória de virada) Liste todos eles\n"
   ]
  },
  {
   "cell_type": "code",
   "execution_count": 17,
   "metadata": {},
   "outputs": [
    {
     "data": {
      "text/plain": [
       "153"
      ]
     },
     "execution_count": 17,
     "metadata": {},
     "output_type": "execute_result"
    }
   ],
   "source": [
    "vencedores = dados_partida[['Vencedor_45min','Vencedor_90min']]\n",
    "vitoria_de_virada = vencedores.query('Vencedor_45min==\"Casa\" and Vencedor_90min==\"Fora\" or Vencedor_45min==\"Fora\" and Vencedor_90min==\"Casa\"')\n",
    "vitoria_de_virada.count()[0]"
   ]
  },
  {
   "cell_type": "markdown",
   "metadata": {},
   "source": [
    "### Gerar um data frame com as seguintes informações:<br>\n",
    "a. Numero de jogos por time. <br>\n",
    "b. Vitoria de mandantes.<br>\n",
    "c. Derrota de mandantes por time.<br>\n",
    "d. Vitória de visitantes por time.<br>\n",
    "e. Derrota de visitantes por time.<br>\n",
    "f. Numero de empates por time.<br>\n",
    "g. Total de pts durante as 10 temporadas.<br>"
   ]
  },
  {
   "cell_type": "code",
   "execution_count": 18,
   "metadata": {},
   "outputs": [
    {
     "data": {
      "text/html": [
       "<div>\n",
       "<style scoped>\n",
       "    .dataframe tbody tr th:only-of-type {\n",
       "        vertical-align: middle;\n",
       "    }\n",
       "\n",
       "    .dataframe tbody tr th {\n",
       "        vertical-align: top;\n",
       "    }\n",
       "\n",
       "    .dataframe thead th {\n",
       "        text-align: right;\n",
       "    }\n",
       "</style>\n",
       "<table border=\"1\" class=\"dataframe\">\n",
       "  <thead>\n",
       "    <tr style=\"text-align: right;\">\n",
       "      <th></th>\n",
       "      <th>Time_casa</th>\n",
       "    </tr>\n",
       "  </thead>\n",
       "  <tbody>\n",
       "    <tr>\n",
       "      <th>Arsenal</th>\n",
       "      <td>380</td>\n",
       "    </tr>\n",
       "    <tr>\n",
       "      <th>Aston Villa</th>\n",
       "      <td>266</td>\n",
       "    </tr>\n",
       "    <tr>\n",
       "      <th>Birmingham</th>\n",
       "      <td>76</td>\n",
       "    </tr>\n",
       "    <tr>\n",
       "      <th>Blackburn</th>\n",
       "      <td>114</td>\n",
       "    </tr>\n",
       "    <tr>\n",
       "      <th>Blackpool</th>\n",
       "      <td>38</td>\n",
       "    </tr>\n",
       "  </tbody>\n",
       "</table>\n",
       "</div>"
      ],
      "text/plain": [
       "             Time_casa\n",
       "Arsenal            380\n",
       "Aston Villa        266\n",
       "Birmingham          76\n",
       "Blackburn          114\n",
       "Blackpool           38"
      ]
     },
     "execution_count": 18,
     "metadata": {},
     "output_type": "execute_result"
    }
   ],
   "source": [
    "#a\n",
    "\n",
    "jogos_por_time = dados_partida.Time_casa.value_counts()*2\n",
    "jogos_por_time = pd.DataFrame(jogos_por_time)\n",
    "jogos_por_time.sort_index(inplace=True)\n",
    "jogos_por_time.head()"
   ]
  },
  {
   "cell_type": "code",
   "execution_count": 19,
   "metadata": {},
   "outputs": [
    {
     "data": {
      "text/html": [
       "<div>\n",
       "<style scoped>\n",
       "    .dataframe tbody tr th:only-of-type {\n",
       "        vertical-align: middle;\n",
       "    }\n",
       "\n",
       "    .dataframe tbody tr th {\n",
       "        vertical-align: top;\n",
       "    }\n",
       "\n",
       "    .dataframe thead th {\n",
       "        text-align: right;\n",
       "    }\n",
       "</style>\n",
       "<table border=\"1\" class=\"dataframe\">\n",
       "  <thead>\n",
       "    <tr style=\"text-align: right;\">\n",
       "      <th></th>\n",
       "      <th>Vencedor_90min_numerico</th>\n",
       "    </tr>\n",
       "    <tr>\n",
       "      <th>Time_casa</th>\n",
       "      <th></th>\n",
       "    </tr>\n",
       "  </thead>\n",
       "  <tbody>\n",
       "    <tr>\n",
       "      <th>Arsenal</th>\n",
       "      <td>129</td>\n",
       "    </tr>\n",
       "    <tr>\n",
       "      <th>Aston Villa</th>\n",
       "      <td>38</td>\n",
       "    </tr>\n",
       "    <tr>\n",
       "      <th>Birmingham</th>\n",
       "      <td>14</td>\n",
       "    </tr>\n",
       "    <tr>\n",
       "      <th>Blackburn</th>\n",
       "      <td>23</td>\n",
       "    </tr>\n",
       "    <tr>\n",
       "      <th>Blackpool</th>\n",
       "      <td>5</td>\n",
       "    </tr>\n",
       "  </tbody>\n",
       "</table>\n",
       "</div>"
      ],
      "text/plain": [
       "             Vencedor_90min_numerico\n",
       "Time_casa                           \n",
       "Arsenal                          129\n",
       "Aston Villa                       38\n",
       "Birmingham                        14\n",
       "Blackburn                         23\n",
       "Blackpool                          5"
      ]
     },
     "execution_count": 19,
     "metadata": {},
     "output_type": "execute_result"
    }
   ],
   "source": [
    "#b\n",
    "# Casa = 0, Fora = 1, Empate = 2 \n",
    "\n",
    "colunas=['Time_casa','Vencedor_90min_numerico'] #Criando as labels\n",
    "dados_partida['Vencedor_90min_numerico'] = dados_partida.Vencedor_90min.replace(['Casa','Fora','Empate'],[0,1,2]) #Criando coluna numérica\n",
    "\n",
    "vitoria_casa = dados_partida[(dados_partida.Vencedor_90min_numerico == 0)][colunas].groupby('Time_casa').count()\n",
    "#Agrupando a contagem de quando a colunar Vencedor_90min_numerico for igual a 0, já colocando as labels.\n",
    "vitoria_casa.head()"
   ]
  },
  {
   "cell_type": "code",
   "execution_count": 20,
   "metadata": {},
   "outputs": [
    {
     "data": {
      "text/html": [
       "<div>\n",
       "<style scoped>\n",
       "    .dataframe tbody tr th:only-of-type {\n",
       "        vertical-align: middle;\n",
       "    }\n",
       "\n",
       "    .dataframe tbody tr th {\n",
       "        vertical-align: top;\n",
       "    }\n",
       "\n",
       "    .dataframe thead th {\n",
       "        text-align: right;\n",
       "    }\n",
       "</style>\n",
       "<table border=\"1\" class=\"dataframe\">\n",
       "  <thead>\n",
       "    <tr style=\"text-align: right;\">\n",
       "      <th></th>\n",
       "      <th>Vencedor_90min_numerico</th>\n",
       "    </tr>\n",
       "    <tr>\n",
       "      <th>Time_casa</th>\n",
       "      <th></th>\n",
       "    </tr>\n",
       "  </thead>\n",
       "  <tbody>\n",
       "    <tr>\n",
       "      <th>Arsenal</th>\n",
       "      <td>24</td>\n",
       "    </tr>\n",
       "    <tr>\n",
       "      <th>Aston Villa</th>\n",
       "      <td>54</td>\n",
       "    </tr>\n",
       "    <tr>\n",
       "      <th>Birmingham</th>\n",
       "      <td>7</td>\n",
       "    </tr>\n",
       "    <tr>\n",
       "      <th>Blackburn</th>\n",
       "      <td>20</td>\n",
       "    </tr>\n",
       "    <tr>\n",
       "      <th>Blackpool</th>\n",
       "      <td>9</td>\n",
       "    </tr>\n",
       "  </tbody>\n",
       "</table>\n",
       "</div>"
      ],
      "text/plain": [
       "             Vencedor_90min_numerico\n",
       "Time_casa                           \n",
       "Arsenal                           24\n",
       "Aston Villa                       54\n",
       "Birmingham                         7\n",
       "Blackburn                         20\n",
       "Blackpool                          9"
      ]
     },
     "execution_count": 20,
     "metadata": {},
     "output_type": "execute_result"
    }
   ],
   "source": [
    "#c\n",
    "\n",
    "derrota_casa = dados_partida[(dados_partida.Vencedor_90min_numerico == 1)][colunas].groupby('Time_casa').count()\n",
    "derrota_casa.head()"
   ]
  },
  {
   "cell_type": "code",
   "execution_count": 21,
   "metadata": {},
   "outputs": [
    {
     "data": {
      "text/html": [
       "<div>\n",
       "<style scoped>\n",
       "    .dataframe tbody tr th:only-of-type {\n",
       "        vertical-align: middle;\n",
       "    }\n",
       "\n",
       "    .dataframe tbody tr th {\n",
       "        vertical-align: top;\n",
       "    }\n",
       "\n",
       "    .dataframe thead th {\n",
       "        text-align: right;\n",
       "    }\n",
       "</style>\n",
       "<table border=\"1\" class=\"dataframe\">\n",
       "  <thead>\n",
       "    <tr style=\"text-align: right;\">\n",
       "      <th></th>\n",
       "      <th>Vencedor_90min_numerico</th>\n",
       "    </tr>\n",
       "    <tr>\n",
       "      <th>Time_fora</th>\n",
       "      <th></th>\n",
       "    </tr>\n",
       "  </thead>\n",
       "  <tbody>\n",
       "    <tr>\n",
       "      <th>Arsenal</th>\n",
       "      <td>84</td>\n",
       "    </tr>\n",
       "    <tr>\n",
       "      <th>Aston Villa</th>\n",
       "      <td>31</td>\n",
       "    </tr>\n",
       "    <tr>\n",
       "      <th>Birmingham</th>\n",
       "      <td>7</td>\n",
       "    </tr>\n",
       "    <tr>\n",
       "      <th>Blackburn</th>\n",
       "      <td>9</td>\n",
       "    </tr>\n",
       "    <tr>\n",
       "      <th>Blackpool</th>\n",
       "      <td>5</td>\n",
       "    </tr>\n",
       "  </tbody>\n",
       "</table>\n",
       "</div>"
      ],
      "text/plain": [
       "             Vencedor_90min_numerico\n",
       "Time_fora                           \n",
       "Arsenal                           84\n",
       "Aston Villa                       31\n",
       "Birmingham                         7\n",
       "Blackburn                          9\n",
       "Blackpool                          5"
      ]
     },
     "execution_count": 21,
     "metadata": {},
     "output_type": "execute_result"
    }
   ],
   "source": [
    "#d\n",
    "colunas2=['Time_fora','Vencedor_90min_numerico']\n",
    "vitoria_fora = dados_partida[(dados_partida.Vencedor_90min_numerico == 1)][colunas2].groupby('Time_fora').count()\n",
    "vitoria_fora.head()"
   ]
  },
  {
   "cell_type": "code",
   "execution_count": 22,
   "metadata": {},
   "outputs": [
    {
     "data": {
      "text/html": [
       "<div>\n",
       "<style scoped>\n",
       "    .dataframe tbody tr th:only-of-type {\n",
       "        vertical-align: middle;\n",
       "    }\n",
       "\n",
       "    .dataframe tbody tr th {\n",
       "        vertical-align: top;\n",
       "    }\n",
       "\n",
       "    .dataframe thead th {\n",
       "        text-align: right;\n",
       "    }\n",
       "</style>\n",
       "<table border=\"1\" class=\"dataframe\">\n",
       "  <thead>\n",
       "    <tr style=\"text-align: right;\">\n",
       "      <th></th>\n",
       "      <th>Vencedor_90min_numerico</th>\n",
       "    </tr>\n",
       "    <tr>\n",
       "      <th>Time_fora</th>\n",
       "      <th></th>\n",
       "    </tr>\n",
       "  </thead>\n",
       "  <tbody>\n",
       "    <tr>\n",
       "      <th>Arsenal</th>\n",
       "      <td>63</td>\n",
       "    </tr>\n",
       "    <tr>\n",
       "      <th>Aston Villa</th>\n",
       "      <td>66</td>\n",
       "    </tr>\n",
       "    <tr>\n",
       "      <th>Birmingham</th>\n",
       "      <td>22</td>\n",
       "    </tr>\n",
       "    <tr>\n",
       "      <th>Blackburn</th>\n",
       "      <td>34</td>\n",
       "    </tr>\n",
       "    <tr>\n",
       "      <th>Blackpool</th>\n",
       "      <td>10</td>\n",
       "    </tr>\n",
       "  </tbody>\n",
       "</table>\n",
       "</div>"
      ],
      "text/plain": [
       "             Vencedor_90min_numerico\n",
       "Time_fora                           \n",
       "Arsenal                           63\n",
       "Aston Villa                       66\n",
       "Birmingham                        22\n",
       "Blackburn                         34\n",
       "Blackpool                         10"
      ]
     },
     "execution_count": 22,
     "metadata": {},
     "output_type": "execute_result"
    }
   ],
   "source": [
    "#e\n",
    "derrota_fora = dados_partida[(dados_partida.Vencedor_90min_numerico == 0)][colunas2].groupby('Time_fora').count()\n",
    "derrota_fora.head()"
   ]
  },
  {
   "cell_type": "code",
   "execution_count": 23,
   "metadata": {},
   "outputs": [
    {
     "data": {
      "text/html": [
       "<div>\n",
       "<style scoped>\n",
       "    .dataframe tbody tr th:only-of-type {\n",
       "        vertical-align: middle;\n",
       "    }\n",
       "\n",
       "    .dataframe tbody tr th {\n",
       "        vertical-align: top;\n",
       "    }\n",
       "\n",
       "    .dataframe thead th {\n",
       "        text-align: right;\n",
       "    }\n",
       "</style>\n",
       "<table border=\"1\" class=\"dataframe\">\n",
       "  <thead>\n",
       "    <tr style=\"text-align: right;\">\n",
       "      <th></th>\n",
       "      <th>0</th>\n",
       "    </tr>\n",
       "  </thead>\n",
       "  <tbody>\n",
       "    <tr>\n",
       "      <th>Arsenal</th>\n",
       "      <td>28</td>\n",
       "    </tr>\n",
       "    <tr>\n",
       "      <th>Aston Villa</th>\n",
       "      <td>17</td>\n",
       "    </tr>\n",
       "    <tr>\n",
       "      <th>Birmingham</th>\n",
       "      <td>83</td>\n",
       "    </tr>\n",
       "    <tr>\n",
       "      <th>Blackburn</th>\n",
       "      <td>10</td>\n",
       "    </tr>\n",
       "    <tr>\n",
       "      <th>Blackpool</th>\n",
       "      <td>87</td>\n",
       "    </tr>\n",
       "  </tbody>\n",
       "</table>\n",
       "</div>"
      ],
      "text/plain": [
       "              0\n",
       "Arsenal      28\n",
       "Aston Villa  17\n",
       "Birmingham   83\n",
       "Blackburn    10\n",
       "Blackpool    87"
      ]
     },
     "execution_count": 23,
     "metadata": {},
     "output_type": "execute_result"
    }
   ],
   "source": [
    "#f\n",
    "#Criando dataframes para contagem de empates em casa e fora e colocando a soma desses valores numa lista chamada empates\n",
    "#Feito isso, criei um DF com os valores de empate e a label dos nomes do times ordenados.\n",
    "empate_casa = dados_partida[(dados_partida.Vencedor_90min_numerico == 2)][colunas].groupby('Time_casa').count()\n",
    "empate_fora = dados_partida[(dados_partida.Vencedor_90min_numerico == 2)][colunas2].groupby('Time_fora').count()\n",
    "\n",
    "empates = empate_casa.values+empate_fora.values\n",
    "empates = pd.DataFrame(empates,index=['Everton', 'Tottenham', 'Liverpool', 'Arsenal', 'Man City', 'Chelsea',\n",
    "       'Man United', 'Stoke', 'West Ham', 'Sunderland', 'Newcastle',\n",
    "       'West Brom', 'Southampton', 'Swansea', 'Aston Villa', 'Fulham',\n",
    "       'Crystal Palace', 'Burnley', 'Leicester', 'Norwich', 'Hull',\n",
    "       'Bournemouth', 'Wolves', 'Watford', 'Wigan', 'Blackburn', 'Bolton',\n",
    "       'QPR', 'Brighton', 'Cardiff', 'Birmingham', 'Huddersfield', 'Blackpool',\n",
    "       'Portsmouth', 'Reading', 'Middlesbrough'])\n",
    "empates.sort_index(inplace=True)\n",
    "empates.head()\n"
   ]
  },
  {
   "cell_type": "code",
   "execution_count": 24,
   "metadata": {},
   "outputs": [
    {
     "data": {
      "text/html": [
       "<div>\n",
       "<style scoped>\n",
       "    .dataframe tbody tr th:only-of-type {\n",
       "        vertical-align: middle;\n",
       "    }\n",
       "\n",
       "    .dataframe tbody tr th {\n",
       "        vertical-align: top;\n",
       "    }\n",
       "\n",
       "    .dataframe thead th {\n",
       "        text-align: right;\n",
       "    }\n",
       "</style>\n",
       "<table border=\"1\" class=\"dataframe\">\n",
       "  <thead>\n",
       "    <tr style=\"text-align: right;\">\n",
       "      <th></th>\n",
       "      <th>Data</th>\n",
       "      <th>Time_casa</th>\n",
       "      <th>Time_fora</th>\n",
       "      <th>Gols_90min_casa</th>\n",
       "      <th>Gols_90min_fora</th>\n",
       "      <th>Vencedor_90min</th>\n",
       "      <th>Gols_45min_casa</th>\n",
       "      <th>Gols_45min_fora</th>\n",
       "      <th>Vencedor_45min</th>\n",
       "      <th>Juiz</th>\n",
       "      <th>Vencedor_90min_numerico</th>\n",
       "      <th>Pontos_casa</th>\n",
       "      <th>Pontos_fora</th>\n",
       "    </tr>\n",
       "  </thead>\n",
       "  <tbody>\n",
       "    <tr>\n",
       "      <th>0</th>\n",
       "      <td>2009-08-15 00:00:00</td>\n",
       "      <td>Aston Villa</td>\n",
       "      <td>Wigan</td>\n",
       "      <td>0</td>\n",
       "      <td>2</td>\n",
       "      <td>Fora</td>\n",
       "      <td>0</td>\n",
       "      <td>1</td>\n",
       "      <td>Fora</td>\n",
       "      <td>M Clattenburg</td>\n",
       "      <td>1</td>\n",
       "      <td>0.0</td>\n",
       "      <td>3.0</td>\n",
       "    </tr>\n",
       "    <tr>\n",
       "      <th>1</th>\n",
       "      <td>2009-08-15 00:00:00</td>\n",
       "      <td>Blackburn</td>\n",
       "      <td>Man City</td>\n",
       "      <td>0</td>\n",
       "      <td>2</td>\n",
       "      <td>Fora</td>\n",
       "      <td>0</td>\n",
       "      <td>1</td>\n",
       "      <td>Fora</td>\n",
       "      <td>M Dean</td>\n",
       "      <td>1</td>\n",
       "      <td>0.0</td>\n",
       "      <td>3.0</td>\n",
       "    </tr>\n",
       "    <tr>\n",
       "      <th>2</th>\n",
       "      <td>2009-08-15 00:00:00</td>\n",
       "      <td>Bolton</td>\n",
       "      <td>Sunderland</td>\n",
       "      <td>0</td>\n",
       "      <td>1</td>\n",
       "      <td>Fora</td>\n",
       "      <td>0</td>\n",
       "      <td>1</td>\n",
       "      <td>Fora</td>\n",
       "      <td>A Marriner</td>\n",
       "      <td>1</td>\n",
       "      <td>0.0</td>\n",
       "      <td>3.0</td>\n",
       "    </tr>\n",
       "    <tr>\n",
       "      <th>3</th>\n",
       "      <td>2009-08-15 00:00:00</td>\n",
       "      <td>Chelsea</td>\n",
       "      <td>Hull</td>\n",
       "      <td>2</td>\n",
       "      <td>1</td>\n",
       "      <td>Casa</td>\n",
       "      <td>1</td>\n",
       "      <td>1</td>\n",
       "      <td>Empate</td>\n",
       "      <td>A Wiley</td>\n",
       "      <td>0</td>\n",
       "      <td>3.0</td>\n",
       "      <td>0.0</td>\n",
       "    </tr>\n",
       "    <tr>\n",
       "      <th>4</th>\n",
       "      <td>2009-08-15 00:00:00</td>\n",
       "      <td>Everton</td>\n",
       "      <td>Arsenal</td>\n",
       "      <td>1</td>\n",
       "      <td>6</td>\n",
       "      <td>Fora</td>\n",
       "      <td>0</td>\n",
       "      <td>3</td>\n",
       "      <td>Fora</td>\n",
       "      <td>M Halsey</td>\n",
       "      <td>1</td>\n",
       "      <td>0.0</td>\n",
       "      <td>3.0</td>\n",
       "    </tr>\n",
       "  </tbody>\n",
       "</table>\n",
       "</div>"
      ],
      "text/plain": [
       "                  Data    Time_casa   Time_fora  Gols_90min_casa  \\\n",
       "0  2009-08-15 00:00:00  Aston Villa       Wigan                0   \n",
       "1  2009-08-15 00:00:00    Blackburn    Man City                0   \n",
       "2  2009-08-15 00:00:00       Bolton  Sunderland                0   \n",
       "3  2009-08-15 00:00:00      Chelsea        Hull                2   \n",
       "4  2009-08-15 00:00:00      Everton     Arsenal                1   \n",
       "\n",
       "   Gols_90min_fora Vencedor_90min  Gols_45min_casa  Gols_45min_fora  \\\n",
       "0                2           Fora                0                1   \n",
       "1                2           Fora                0                1   \n",
       "2                1           Fora                0                1   \n",
       "3                1           Casa                1                1   \n",
       "4                6           Fora                0                3   \n",
       "\n",
       "  Vencedor_45min           Juiz  Vencedor_90min_numerico  Pontos_casa  \\\n",
       "0           Fora  M Clattenburg                        1          0.0   \n",
       "1           Fora         M Dean                        1          0.0   \n",
       "2           Fora     A Marriner                        1          0.0   \n",
       "3         Empate        A Wiley                        0          3.0   \n",
       "4           Fora       M Halsey                        1          0.0   \n",
       "\n",
       "   Pontos_fora  \n",
       "0          3.0  \n",
       "1          3.0  \n",
       "2          3.0  \n",
       "3          0.0  \n",
       "4          3.0  "
      ]
     },
     "execution_count": 24,
     "metadata": {},
     "output_type": "execute_result"
    }
   ],
   "source": [
    "#g\n",
    "#Localizando cada resposta na variável 'Vencedor_90min' e adicionando numa coluna 'Pontos_casa' conforme o resultado.\n",
    "dados_partida.loc[dados_partida['Vencedor_90min']=='Casa', 'Pontos_casa'] = 3\n",
    "dados_partida.loc[dados_partida['Vencedor_90min']=='Fora', 'Pontos_casa'] = 0\n",
    "dados_partida.loc[dados_partida['Vencedor_90min']=='Empate', 'Pontos_casa'] = 1\n",
    "\n",
    "#Localizando cada resposta na variável 'Vencedor_90min' e adicionando numa coluna 'Pontos_fora' conforme o resultado.\n",
    "\n",
    "dados_partida.loc[dados_partida['Vencedor_90min']=='Casa', 'Pontos_fora'] = 0\n",
    "dados_partida.loc[dados_partida['Vencedor_90min']=='Fora', 'Pontos_fora'] = 3\n",
    "dados_partida.loc[dados_partida['Vencedor_90min']=='Empate', 'Pontos_fora'] = 1\n",
    "\n",
    "dados_partida.head()\n"
   ]
  },
  {
   "cell_type": "code",
   "execution_count": 25,
   "metadata": {},
   "outputs": [
    {
     "data": {
      "text/html": [
       "<div>\n",
       "<style scoped>\n",
       "    .dataframe tbody tr th:only-of-type {\n",
       "        vertical-align: middle;\n",
       "    }\n",
       "\n",
       "    .dataframe tbody tr th {\n",
       "        vertical-align: top;\n",
       "    }\n",
       "\n",
       "    .dataframe thead th {\n",
       "        text-align: right;\n",
       "    }\n",
       "</style>\n",
       "<table border=\"1\" class=\"dataframe\">\n",
       "  <thead>\n",
       "    <tr style=\"text-align: right;\">\n",
       "      <th></th>\n",
       "      <th>Pontos total</th>\n",
       "    </tr>\n",
       "  </thead>\n",
       "  <tbody>\n",
       "    <tr>\n",
       "      <th>Arsenal</th>\n",
       "      <td>719.0</td>\n",
       "    </tr>\n",
       "    <tr>\n",
       "      <th>Aston Villa</th>\n",
       "      <td>284.0</td>\n",
       "    </tr>\n",
       "    <tr>\n",
       "      <th>Birmingham</th>\n",
       "      <td>89.0</td>\n",
       "    </tr>\n",
       "    <tr>\n",
       "      <th>Blackburn</th>\n",
       "      <td>124.0</td>\n",
       "    </tr>\n",
       "    <tr>\n",
       "      <th>Blackpool</th>\n",
       "      <td>39.0</td>\n",
       "    </tr>\n",
       "  </tbody>\n",
       "</table>\n",
       "</div>"
      ],
      "text/plain": [
       "             Pontos total\n",
       "Arsenal             719.0\n",
       "Aston Villa         284.0\n",
       "Birmingham           89.0\n",
       "Blackburn           124.0\n",
       "Blackpool            39.0"
      ]
     },
     "execution_count": 25,
     "metadata": {},
     "output_type": "execute_result"
    }
   ],
   "source": [
    "pontos_casa = dados_partida[['Time_casa','Pontos_casa']].groupby('Time_casa').sum() #Agrupando a soma de pontos do time da casa\n",
    "pontos_fora = dados_partida[['Time_fora','Pontos_fora']].groupby('Time_fora').sum() #Agrupando a soma de pontos do time de fora\n",
    "\n",
    "lista_pontos = pontos_casa.values + pontos_fora.values #criando uma lista com os pontos totais nas 10 temporadas de cada time\n",
    "\n",
    "pontos_total = pd.DataFrame(index=['Everton', 'Tottenham', 'Liverpool', 'Arsenal', 'Man City', 'Chelsea',\n",
    "       'Man United', 'Stoke', 'West Ham', 'Sunderland', 'Newcastle',\n",
    "       'West Brom', 'Southampton', 'Swansea', 'Aston Villa', 'Fulham',\n",
    "       'Crystal Palace', 'Burnley', 'Leicester', 'Norwich', 'Hull',\n",
    "       'Bournemouth', 'Wolves', 'Watford', 'Wigan', 'Blackburn', 'Bolton',\n",
    "       'QPR', 'Brighton', 'Cardiff', 'Birmingham', 'Huddersfield', 'Blackpool',\n",
    "       'Portsmouth', 'Reading', 'Middlesbrough']) #criando o index\n",
    "pontos_total.sort_index(inplace=True) #ordenando o index \n",
    "pontos_total['Pontos total'] = lista_pontos #adicionando os valores ao devido index\n",
    "\n",
    "pontos_total.head()"
   ]
  },
  {
   "cell_type": "code",
   "execution_count": 26,
   "metadata": {},
   "outputs": [
    {
     "data": {
      "text/html": [
       "<div>\n",
       "<style scoped>\n",
       "    .dataframe tbody tr th:only-of-type {\n",
       "        vertical-align: middle;\n",
       "    }\n",
       "\n",
       "    .dataframe tbody tr th {\n",
       "        vertical-align: top;\n",
       "    }\n",
       "\n",
       "    .dataframe thead th {\n",
       "        text-align: right;\n",
       "    }\n",
       "</style>\n",
       "<table border=\"1\" class=\"dataframe\">\n",
       "  <thead>\n",
       "    <tr style=\"text-align: right;\">\n",
       "      <th></th>\n",
       "      <th>Partidas</th>\n",
       "      <th>Vitórias casa</th>\n",
       "      <th>Derrotas casa</th>\n",
       "      <th>Vitórias fora</th>\n",
       "      <th>Derrotas fora</th>\n",
       "      <th>Empates</th>\n",
       "      <th>Pts</th>\n",
       "    </tr>\n",
       "  </thead>\n",
       "  <tbody>\n",
       "    <tr>\n",
       "      <th>Arsenal</th>\n",
       "      <td>380</td>\n",
       "      <td>129</td>\n",
       "      <td>24</td>\n",
       "      <td>84</td>\n",
       "      <td>63</td>\n",
       "      <td>28</td>\n",
       "      <td>719.0</td>\n",
       "    </tr>\n",
       "    <tr>\n",
       "      <th>Aston Villa</th>\n",
       "      <td>266</td>\n",
       "      <td>38</td>\n",
       "      <td>54</td>\n",
       "      <td>31</td>\n",
       "      <td>66</td>\n",
       "      <td>17</td>\n",
       "      <td>284.0</td>\n",
       "    </tr>\n",
       "    <tr>\n",
       "      <th>Birmingham</th>\n",
       "      <td>76</td>\n",
       "      <td>14</td>\n",
       "      <td>7</td>\n",
       "      <td>7</td>\n",
       "      <td>22</td>\n",
       "      <td>83</td>\n",
       "      <td>89.0</td>\n",
       "    </tr>\n",
       "    <tr>\n",
       "      <th>Blackburn</th>\n",
       "      <td>114</td>\n",
       "      <td>23</td>\n",
       "      <td>20</td>\n",
       "      <td>9</td>\n",
       "      <td>34</td>\n",
       "      <td>10</td>\n",
       "      <td>124.0</td>\n",
       "    </tr>\n",
       "    <tr>\n",
       "      <th>Blackpool</th>\n",
       "      <td>38</td>\n",
       "      <td>5</td>\n",
       "      <td>9</td>\n",
       "      <td>5</td>\n",
       "      <td>10</td>\n",
       "      <td>87</td>\n",
       "      <td>39.0</td>\n",
       "    </tr>\n",
       "  </tbody>\n",
       "</table>\n",
       "</div>"
      ],
      "text/plain": [
       "             Partidas  Vitórias casa  Derrotas casa  Vitórias fora  \\\n",
       "Arsenal           380            129             24             84   \n",
       "Aston Villa       266             38             54             31   \n",
       "Birmingham         76             14              7              7   \n",
       "Blackburn         114             23             20              9   \n",
       "Blackpool          38              5              9              5   \n",
       "\n",
       "             Derrotas fora  Empates    Pts  \n",
       "Arsenal                 63       28  719.0  \n",
       "Aston Villa             66       17  284.0  \n",
       "Birmingham              22       83   89.0  \n",
       "Blackburn               34       10  124.0  \n",
       "Blackpool               10       87   39.0  "
      ]
     },
     "execution_count": 26,
     "metadata": {},
     "output_type": "execute_result"
    }
   ],
   "source": [
    "#Concatenando os DF's criados em um só e renomeando as colunas\n",
    "\n",
    "times_dados = pd.concat([jogos_por_time, vitoria_casa, derrota_casa, vitoria_fora, derrota_fora, empates, pontos_total],axis=1)\n",
    "times_dados.columns=['Partidas','Vitórias casa','Derrotas casa','Vitórias fora','Derrotas fora','Empates','Pts']\n",
    "\n",
    "times_dados.head()"
   ]
  },
  {
   "cell_type": "markdown",
   "metadata": {},
   "source": [
    "### Quais jogos tiveram mais gols?\n"
   ]
  },
  {
   "cell_type": "code",
   "execution_count": 27,
   "metadata": {},
   "outputs": [
    {
     "data": {
      "text/plain": [
       "1328    10\n",
       "1517    10\n",
       "126     10\n",
       "785     10\n",
       "2503     9\n",
       "3418     9\n",
       "1921     9\n",
       "200      9\n",
       "1674     9\n",
       "1811     9\n",
       "2892     9\n",
       "3113     9\n",
       "2785     9\n",
       "134      8\n",
       "3599     8\n",
       "2387     8\n",
       "1728     8\n",
       "627      8\n",
       "309      8\n",
       "625      8\n",
       "Name: gols, dtype: int64"
      ]
     },
     "execution_count": 27,
     "metadata": {},
     "output_type": "execute_result"
    }
   ],
   "source": [
    "#Somando os gols do time mandante e visitante por partida, atribuindo os valores a uma coluna 'gols' e ordendo pelos valores\n",
    "\n",
    "dados_partida['gols'] = dados_partida.Gols_90min_casa+dados_partida.Gols_90min_fora \n",
    "dados_partida['gols'].sort_values(ascending=False).head(20)"
   ]
  },
  {
   "cell_type": "code",
   "execution_count": 28,
   "metadata": {},
   "outputs": [
    {
     "data": {
      "text/html": [
       "<div>\n",
       "<style scoped>\n",
       "    .dataframe tbody tr th:only-of-type {\n",
       "        vertical-align: middle;\n",
       "    }\n",
       "\n",
       "    .dataframe tbody tr th {\n",
       "        vertical-align: top;\n",
       "    }\n",
       "\n",
       "    .dataframe thead th {\n",
       "        text-align: right;\n",
       "    }\n",
       "</style>\n",
       "<table border=\"1\" class=\"dataframe\">\n",
       "  <thead>\n",
       "    <tr style=\"text-align: right;\">\n",
       "      <th></th>\n",
       "      <th>Data</th>\n",
       "      <th>Time_casa</th>\n",
       "      <th>Time_fora</th>\n",
       "      <th>Gols_90min_casa</th>\n",
       "      <th>Gols_90min_fora</th>\n",
       "      <th>Vencedor_90min</th>\n",
       "      <th>Gols_45min_casa</th>\n",
       "      <th>Gols_45min_fora</th>\n",
       "      <th>Vencedor_45min</th>\n",
       "      <th>Juiz</th>\n",
       "      <th>Vencedor_90min_numerico</th>\n",
       "      <th>Pontos_casa</th>\n",
       "      <th>Pontos_fora</th>\n",
       "      <th>gols</th>\n",
       "    </tr>\n",
       "  </thead>\n",
       "  <tbody>\n",
       "    <tr>\n",
       "      <th>126</th>\n",
       "      <td>2009-11-22 00:00:00</td>\n",
       "      <td>Tottenham</td>\n",
       "      <td>Wigan</td>\n",
       "      <td>9</td>\n",
       "      <td>1</td>\n",
       "      <td>Casa</td>\n",
       "      <td>1</td>\n",
       "      <td>0</td>\n",
       "      <td>Casa</td>\n",
       "      <td>P Walton</td>\n",
       "      <td>0</td>\n",
       "      <td>3.0</td>\n",
       "      <td>0.0</td>\n",
       "      <td>10</td>\n",
       "    </tr>\n",
       "    <tr>\n",
       "      <th>200</th>\n",
       "      <td>2010-01-16 00:00:00</td>\n",
       "      <td>Chelsea</td>\n",
       "      <td>Sunderland</td>\n",
       "      <td>7</td>\n",
       "      <td>2</td>\n",
       "      <td>Casa</td>\n",
       "      <td>4</td>\n",
       "      <td>0</td>\n",
       "      <td>Casa</td>\n",
       "      <td>C Foy</td>\n",
       "      <td>0</td>\n",
       "      <td>3.0</td>\n",
       "      <td>0.0</td>\n",
       "      <td>9</td>\n",
       "    </tr>\n",
       "    <tr>\n",
       "      <th>785</th>\n",
       "      <td>2011-08-28 00:00:00</td>\n",
       "      <td>Man United</td>\n",
       "      <td>Arsenal</td>\n",
       "      <td>8</td>\n",
       "      <td>2</td>\n",
       "      <td>Casa</td>\n",
       "      <td>3</td>\n",
       "      <td>1</td>\n",
       "      <td>Casa</td>\n",
       "      <td>H Webb</td>\n",
       "      <td>0</td>\n",
       "      <td>3.0</td>\n",
       "      <td>0.0</td>\n",
       "      <td>10</td>\n",
       "    </tr>\n",
       "  </tbody>\n",
       "</table>\n",
       "</div>"
      ],
      "text/plain": [
       "                    Data   Time_casa   Time_fora  Gols_90min_casa  \\\n",
       "126  2009-11-22 00:00:00   Tottenham       Wigan                9   \n",
       "200  2010-01-16 00:00:00     Chelsea  Sunderland                7   \n",
       "785  2011-08-28 00:00:00  Man United     Arsenal                8   \n",
       "\n",
       "     Gols_90min_fora Vencedor_90min  Gols_45min_casa  Gols_45min_fora  \\\n",
       "126                1           Casa                1                0   \n",
       "200                2           Casa                4                0   \n",
       "785                2           Casa                3                1   \n",
       "\n",
       "    Vencedor_45min      Juiz  Vencedor_90min_numerico  Pontos_casa  \\\n",
       "126           Casa  P Walton                        0          3.0   \n",
       "200           Casa     C Foy                        0          3.0   \n",
       "785           Casa    H Webb                        0          3.0   \n",
       "\n",
       "     Pontos_fora  gols  \n",
       "126          0.0    10  \n",
       "200          0.0     9  \n",
       "785          0.0    10  "
      ]
     },
     "execution_count": 28,
     "metadata": {},
     "output_type": "execute_result"
    }
   ],
   "source": [
    "dados_partida.query('gols>8').head(3)"
   ]
  },
  {
   "cell_type": "markdown",
   "metadata": {},
   "source": [
    "### Descubra os gols marcados como mandante, visitante e total para cada time\n",
    "\n"
   ]
  },
  {
   "cell_type": "code",
   "execution_count": 38,
   "metadata": {},
   "outputs": [
    {
     "data": {
      "text/html": [
       "<div>\n",
       "<style scoped>\n",
       "    .dataframe tbody tr th:only-of-type {\n",
       "        vertical-align: middle;\n",
       "    }\n",
       "\n",
       "    .dataframe tbody tr th {\n",
       "        vertical-align: top;\n",
       "    }\n",
       "\n",
       "    .dataframe thead th {\n",
       "        text-align: right;\n",
       "    }\n",
       "</style>\n",
       "<table border=\"1\" class=\"dataframe\">\n",
       "  <thead>\n",
       "    <tr style=\"text-align: right;\">\n",
       "      <th></th>\n",
       "      <th>Gols_casa</th>\n",
       "      <th>Gols_fora</th>\n",
       "      <th>Gols_total</th>\n",
       "    </tr>\n",
       "  </thead>\n",
       "  <tbody>\n",
       "    <tr>\n",
       "      <th>Arsenal</th>\n",
       "      <td>410</td>\n",
       "      <td>319</td>\n",
       "      <td>729</td>\n",
       "    </tr>\n",
       "    <tr>\n",
       "      <th>Aston Villa</th>\n",
       "      <td>152</td>\n",
       "      <td>129</td>\n",
       "      <td>281</td>\n",
       "    </tr>\n",
       "    <tr>\n",
       "      <th>Birmingham</th>\n",
       "      <td>38</td>\n",
       "      <td>37</td>\n",
       "      <td>75</td>\n",
       "    </tr>\n",
       "    <tr>\n",
       "      <th>Blackburn</th>\n",
       "      <td>76</td>\n",
       "      <td>59</td>\n",
       "      <td>135</td>\n",
       "    </tr>\n",
       "    <tr>\n",
       "      <th>Blackpool</th>\n",
       "      <td>30</td>\n",
       "      <td>25</td>\n",
       "      <td>55</td>\n",
       "    </tr>\n",
       "  </tbody>\n",
       "</table>\n",
       "</div>"
      ],
      "text/plain": [
       "             Gols_casa  Gols_fora  Gols_total\n",
       "Arsenal            410        319         729\n",
       "Aston Villa        152        129         281\n",
       "Birmingham          38         37          75\n",
       "Blackburn           76         59         135\n",
       "Blackpool           30         25          55"
      ]
     },
     "execution_count": 38,
     "metadata": {},
     "output_type": "execute_result"
    }
   ],
   "source": [
    "#Agrupando por time da casa e de fora o somatório de gols nas partidas e os atribuindo em gols_casa e gols_fora\n",
    "gols_casa = dados_partida[['Time_casa','Gols_90min_casa']].groupby('Time_casa').sum()\n",
    "gols_fora = dados_partida[['Time_fora','Gols_90min_fora']].groupby('Time_fora').sum()\n",
    "\n",
    "#Somando os resultado e atribuindo a uma lista\n",
    "gols_total_lista = gols_casa.values + gols_fora.values\n",
    "\n",
    "#Criando DF, selecionado o index e o ordenando\n",
    "gols_total = pd.DataFrame(index=['Everton', 'Tottenham', 'Liverpool', 'Arsenal', 'Man City', 'Chelsea',\n",
    "       'Man United', 'Stoke', 'West Ham', 'Sunderland', 'Newcastle',\n",
    "       'West Brom', 'Southampton', 'Swansea', 'Aston Villa', 'Fulham',\n",
    "       'Crystal Palace', 'Burnley', 'Leicester', 'Norwich', 'Hull',\n",
    "       'Bournemouth', 'Wolves', 'Watford', 'Wigan', 'Blackburn', 'Bolton',\n",
    "       'QPR', 'Brighton', 'Cardiff', 'Birmingham', 'Huddersfield', 'Blackpool',\n",
    "       'Portsmouth', 'Reading', 'Middlesbrough'])\n",
    "gols_total.sort_index(inplace=True)\n",
    "\n",
    "#Adicionando os valores de gols total de cada time no DF criado acima\n",
    "gols_total['Gols total'] = gols_total_lista\n",
    "\n",
    "#concatenando os gols de casa,fora e total num só DF\n",
    "add = pd.concat([gols_casa,gols_fora,gols_total],axis=1)\n",
    "add.columns=['Gols_casa','Gols_fora','Gols_total']\n",
    "add.head()"
   ]
  },
  {
   "cell_type": "code",
   "execution_count": 39,
   "metadata": {},
   "outputs": [
    {
     "data": {
      "text/html": [
       "<div>\n",
       "<style scoped>\n",
       "    .dataframe tbody tr th:only-of-type {\n",
       "        vertical-align: middle;\n",
       "    }\n",
       "\n",
       "    .dataframe tbody tr th {\n",
       "        vertical-align: top;\n",
       "    }\n",
       "\n",
       "    .dataframe thead th {\n",
       "        text-align: right;\n",
       "    }\n",
       "</style>\n",
       "<table border=\"1\" class=\"dataframe\">\n",
       "  <thead>\n",
       "    <tr style=\"text-align: right;\">\n",
       "      <th></th>\n",
       "      <th>Time</th>\n",
       "      <th>Partidas</th>\n",
       "      <th>Vitórias casa</th>\n",
       "      <th>Derrotas casa</th>\n",
       "      <th>Vitórias fora</th>\n",
       "      <th>Derrotas fora</th>\n",
       "      <th>Empates</th>\n",
       "      <th>Pts</th>\n",
       "      <th>Gols_casa</th>\n",
       "      <th>Gols_fora</th>\n",
       "      <th>Gols_total</th>\n",
       "    </tr>\n",
       "  </thead>\n",
       "  <tbody>\n",
       "    <tr>\n",
       "      <th>0</th>\n",
       "      <td>Arsenal</td>\n",
       "      <td>380</td>\n",
       "      <td>129</td>\n",
       "      <td>24</td>\n",
       "      <td>84</td>\n",
       "      <td>63</td>\n",
       "      <td>28</td>\n",
       "      <td>719.0</td>\n",
       "      <td>410</td>\n",
       "      <td>319</td>\n",
       "      <td>729</td>\n",
       "    </tr>\n",
       "    <tr>\n",
       "      <th>1</th>\n",
       "      <td>Aston Villa</td>\n",
       "      <td>266</td>\n",
       "      <td>38</td>\n",
       "      <td>54</td>\n",
       "      <td>31</td>\n",
       "      <td>66</td>\n",
       "      <td>17</td>\n",
       "      <td>284.0</td>\n",
       "      <td>152</td>\n",
       "      <td>129</td>\n",
       "      <td>281</td>\n",
       "    </tr>\n",
       "    <tr>\n",
       "      <th>2</th>\n",
       "      <td>Birmingham</td>\n",
       "      <td>76</td>\n",
       "      <td>14</td>\n",
       "      <td>7</td>\n",
       "      <td>7</td>\n",
       "      <td>22</td>\n",
       "      <td>83</td>\n",
       "      <td>89.0</td>\n",
       "      <td>38</td>\n",
       "      <td>37</td>\n",
       "      <td>75</td>\n",
       "    </tr>\n",
       "    <tr>\n",
       "      <th>3</th>\n",
       "      <td>Blackburn</td>\n",
       "      <td>114</td>\n",
       "      <td>23</td>\n",
       "      <td>20</td>\n",
       "      <td>9</td>\n",
       "      <td>34</td>\n",
       "      <td>10</td>\n",
       "      <td>124.0</td>\n",
       "      <td>76</td>\n",
       "      <td>59</td>\n",
       "      <td>135</td>\n",
       "    </tr>\n",
       "    <tr>\n",
       "      <th>4</th>\n",
       "      <td>Blackpool</td>\n",
       "      <td>38</td>\n",
       "      <td>5</td>\n",
       "      <td>9</td>\n",
       "      <td>5</td>\n",
       "      <td>10</td>\n",
       "      <td>87</td>\n",
       "      <td>39.0</td>\n",
       "      <td>30</td>\n",
       "      <td>25</td>\n",
       "      <td>55</td>\n",
       "    </tr>\n",
       "  </tbody>\n",
       "</table>\n",
       "</div>"
      ],
      "text/plain": [
       "          Time  Partidas  Vitórias casa  Derrotas casa  Vitórias fora  \\\n",
       "0      Arsenal       380            129             24             84   \n",
       "1  Aston Villa       266             38             54             31   \n",
       "2   Birmingham        76             14              7              7   \n",
       "3    Blackburn       114             23             20              9   \n",
       "4    Blackpool        38              5              9              5   \n",
       "\n",
       "   Derrotas fora  Empates    Pts  Gols_casa  Gols_fora  Gols_total  \n",
       "0             63       28  719.0        410        319         729  \n",
       "1             66       17  284.0        152        129         281  \n",
       "2             22       83   89.0         38         37          75  \n",
       "3             34       10  124.0         76         59         135  \n",
       "4             10       87   39.0         30         25          55  "
      ]
     },
     "execution_count": 39,
     "metadata": {},
     "output_type": "execute_result"
    }
   ],
   "source": [
    "times = pd.concat([times_dados,add],axis=1) #Concatendo 2 DF's feitos antes\n",
    "times.reset_index(inplace=True) #Fazendo o index virar coluna para termos uma coluna com nome dos times\n",
    "times.rename(columns={'index':'Time'},inplace=True)\n",
    "\n",
    "times.head()"
   ]
  },
  {
   "cell_type": "code",
   "execution_count": 31,
   "metadata": {},
   "outputs": [
    {
     "data": {
      "text/html": [
       "<div>\n",
       "<style scoped>\n",
       "    .dataframe tbody tr th:only-of-type {\n",
       "        vertical-align: middle;\n",
       "    }\n",
       "\n",
       "    .dataframe tbody tr th {\n",
       "        vertical-align: top;\n",
       "    }\n",
       "\n",
       "    .dataframe thead th {\n",
       "        text-align: right;\n",
       "    }\n",
       "</style>\n",
       "<table border=\"1\" class=\"dataframe\">\n",
       "  <thead>\n",
       "    <tr style=\"text-align: right;\">\n",
       "      <th></th>\n",
       "      <th>Time</th>\n",
       "      <th>Partidas</th>\n",
       "      <th>Vitórias casa</th>\n",
       "      <th>Derrotas casa</th>\n",
       "      <th>Vitórias fora</th>\n",
       "      <th>Derrotas fora</th>\n",
       "      <th>Empates</th>\n",
       "      <th>Pts</th>\n",
       "      <th>Gols_casa</th>\n",
       "      <th>Gols_fora</th>\n",
       "      <th>Gols_total</th>\n",
       "      <th>Vitórias_total</th>\n",
       "      <th>Derrotas_total</th>\n",
       "    </tr>\n",
       "  </thead>\n",
       "  <tbody>\n",
       "    <tr>\n",
       "      <th>0</th>\n",
       "      <td>Arsenal</td>\n",
       "      <td>380</td>\n",
       "      <td>129</td>\n",
       "      <td>24</td>\n",
       "      <td>84</td>\n",
       "      <td>63</td>\n",
       "      <td>28</td>\n",
       "      <td>719.0</td>\n",
       "      <td>410</td>\n",
       "      <td>319</td>\n",
       "      <td>729</td>\n",
       "      <td>213</td>\n",
       "      <td>87</td>\n",
       "    </tr>\n",
       "    <tr>\n",
       "      <th>1</th>\n",
       "      <td>Aston Villa</td>\n",
       "      <td>266</td>\n",
       "      <td>38</td>\n",
       "      <td>54</td>\n",
       "      <td>31</td>\n",
       "      <td>66</td>\n",
       "      <td>17</td>\n",
       "      <td>284.0</td>\n",
       "      <td>152</td>\n",
       "      <td>129</td>\n",
       "      <td>281</td>\n",
       "      <td>69</td>\n",
       "      <td>120</td>\n",
       "    </tr>\n",
       "    <tr>\n",
       "      <th>2</th>\n",
       "      <td>Birmingham</td>\n",
       "      <td>76</td>\n",
       "      <td>14</td>\n",
       "      <td>7</td>\n",
       "      <td>7</td>\n",
       "      <td>22</td>\n",
       "      <td>83</td>\n",
       "      <td>89.0</td>\n",
       "      <td>38</td>\n",
       "      <td>37</td>\n",
       "      <td>75</td>\n",
       "      <td>21</td>\n",
       "      <td>29</td>\n",
       "    </tr>\n",
       "    <tr>\n",
       "      <th>3</th>\n",
       "      <td>Blackburn</td>\n",
       "      <td>114</td>\n",
       "      <td>23</td>\n",
       "      <td>20</td>\n",
       "      <td>9</td>\n",
       "      <td>34</td>\n",
       "      <td>10</td>\n",
       "      <td>124.0</td>\n",
       "      <td>76</td>\n",
       "      <td>59</td>\n",
       "      <td>135</td>\n",
       "      <td>32</td>\n",
       "      <td>54</td>\n",
       "    </tr>\n",
       "    <tr>\n",
       "      <th>4</th>\n",
       "      <td>Blackpool</td>\n",
       "      <td>38</td>\n",
       "      <td>5</td>\n",
       "      <td>9</td>\n",
       "      <td>5</td>\n",
       "      <td>10</td>\n",
       "      <td>87</td>\n",
       "      <td>39.0</td>\n",
       "      <td>30</td>\n",
       "      <td>25</td>\n",
       "      <td>55</td>\n",
       "      <td>10</td>\n",
       "      <td>19</td>\n",
       "    </tr>\n",
       "  </tbody>\n",
       "</table>\n",
       "</div>"
      ],
      "text/plain": [
       "          Time  Partidas  Vitórias casa  Derrotas casa  Vitórias fora  \\\n",
       "0      Arsenal       380            129             24             84   \n",
       "1  Aston Villa       266             38             54             31   \n",
       "2   Birmingham        76             14              7              7   \n",
       "3    Blackburn       114             23             20              9   \n",
       "4    Blackpool        38              5              9              5   \n",
       "\n",
       "   Derrotas fora  Empates    Pts  Gols_casa  Gols_fora  Gols_total  \\\n",
       "0             63       28  719.0        410        319         729   \n",
       "1             66       17  284.0        152        129         281   \n",
       "2             22       83   89.0         38         37          75   \n",
       "3             34       10  124.0         76         59         135   \n",
       "4             10       87   39.0         30         25          55   \n",
       "\n",
       "   Vitórias_total  Derrotas_total  \n",
       "0             213              87  \n",
       "1              69             120  \n",
       "2              21              29  \n",
       "3              32              54  \n",
       "4              10              19  "
      ]
     },
     "execution_count": 31,
     "metadata": {},
     "output_type": "execute_result"
    }
   ],
   "source": [
    "times['Vitórias_total'] = times['Vitórias casa'] + times['Vitórias fora']\n",
    "times['Derrotas_total'] = times['Derrotas casa'] + times['Derrotas fora']\n",
    "\n",
    "times.head()"
   ]
  },
  {
   "cell_type": "code",
   "execution_count": 32,
   "metadata": {
    "scrolled": true
   },
   "outputs": [
    {
     "data": {
      "text/plain": [
       "<matplotlib.axes._subplots.AxesSubplot at 0x200e388e688>"
      ]
     },
     "execution_count": 32,
     "metadata": {},
     "output_type": "execute_result"
    },
    {
     "data": {
      "image/png": "[encoded data removed]",
      "text/plain": [
       "<Figure size 432x288 with 1 Axes>"
      ]
     },
     "metadata": {
      "needs_background": "light"
     },
     "output_type": "display_data"
    }
   ],
   "source": [
    "sns.distplot(times['Pts'])\n",
    "#Muitos times com poucos pontos mas entre 620 e 800 há uma crescente destacando os melhores times."
   ]
  },
  {
   "cell_type": "code",
   "execution_count": 33,
   "metadata": {},
   "outputs": [
    {
     "data": {
      "text/plain": [
       "<matplotlib.axes._subplots.AxesSubplot at 0x200e38fbf88>"
      ]
     },
     "execution_count": 33,
     "metadata": {},
     "output_type": "execute_result"
    },
    {
     "data": {
      "image/png": "[encoded data removed]",
      "text/plain": [
       "<Figure size 432x288 with 1 Axes>"
      ]
     },
     "metadata": {
      "needs_background": "light"
     },
     "output_type": "display_data"
    }
   ],
   "source": [
    "sns.distplot(times['Gols_total']) #Mostrando a semelhança da distribuição entre os pontos dos times e os gols marcados"
   ]
  },
  {
   "cell_type": "code",
   "execution_count": 34,
   "metadata": {},
   "outputs": [
    {
     "data": {
      "text/plain": [
       "<matplotlib.axes._subplots.AxesSubplot at 0x200e397ed88>"
      ]
     },
     "execution_count": 34,
     "metadata": {},
     "output_type": "execute_result"
    },
    {
     "data": {
      "image/png": "[encoded data removed]",
      "text/plain": [
       "<Figure size 1440x1008 with 1 Axes>"
      ]
     },
     "metadata": {
      "needs_background": "light"
     },
     "output_type": "display_data"
    }
   ],
   "source": [
    "#Agrupando do DF times, o nome do time e o somatório de pontos e ordenando pelos valores(do menor para o maior)\n",
    "pontos_ordenados = times.groupby('Time')['Pts'].sum().sort_values() \n",
    "\n",
    "#Plotando o gráfico de barras \n",
    "fig, ax = plt.subplots(figsize=(20, 14))\n",
    "ax = sns.barplot(x='Pts',y='Time', data=times, palette = 'GnBu_d', order = pontos_ordenados.index)\n",
    "ax.set_title('Soma de pontos dos times da Premier League de 2009 a 2019', fontsize=22)\n",
    "ax.set_xlabel('Pontos', fontsize=16)\n",
    "ax.set_ylabel('')\n",
    "ax"
   ]
  },
  {
   "cell_type": "code",
   "execution_count": 36,
   "metadata": {},
   "outputs": [
    {
     "data": {
      "text/plain": [
       "<matplotlib.axes._subplots.AxesSubplot at 0x200e3784c88>"
      ]
     },
     "execution_count": 36,
     "metadata": {},
     "output_type": "execute_result"
    },
    {
     "data": {
      "image/png": "[encoded data removed]",
      "text/plain": [
       "<Figure size 432x360 with 1 Axes>"
      ]
     },
     "metadata": {
      "needs_background": "light"
     },
     "output_type": "display_data"
    }
   ],
   "source": [
    "fig, ax = plt.subplots(figsize=(6, 5))\n",
    "ax = sns.scatterplot(x='Vitórias fora', y='Derrotas fora', data=times)\n",
    "ax.set_title('Derrotas como visitante X Vitórias como visitante',fontsize=14)\n",
    "ax.set_xlabel('Vitórias como visitante', fontsize=12)\n",
    "ax.set_ylabel('Derrotas como visitante', fontsize=12)\n",
    "ax\n",
    "#Até 40 vitórias como visitante, quanto mais vitórias, maior são as derrotas como visitante. Contudo, a partir desse ponto, quanto\n",
    "#maior as vitórias, menor é o número de derrotas. Isso pode estar acontecendo pois se destacam os melhores times do campeonato."
   ]
  },
  {
   "cell_type": "markdown",
   "metadata": {},
   "source": [
    "# Conclusão"
   ]
  },
  {
   "cell_type": "markdown",
   "metadata": {},
   "source": [
    "Eu espero que você tenha gostado das análises feitas neste Notebook sobre as partidas da Premier League. Essa foi a parte 1 deste projeto onde analisei as primeiras colunas do Dataset, respondi alguns questionamentos, criei DataFrames, transformei DataFrames e fiz o pré-processamento desses dados. A parte 2 logo estará disponível e assim como essa, vai estar aberta a sugestões, dicas e dúvidas."
   ]
  },
  {
   "cell_type": "code",
   "execution_count": null,
   "metadata": {},
   "outputs": [],
   "source": []
  }
 ],
 "metadata": {
  "kernelspec": {
   "display_name": "Python 3",
   "language": "python",
   "name": "python3"
  },
  "language_info": {
   "codemirror_mode": {
    "name": "ipython",
    "version": 3
   },
   "file_extension": ".py",
   "mimetype": "text/x-python",
   "name": "python",
   "nbconvert_exporter": "python",
   "pygments_lexer": "ipython3",
   "version": "3.7.6"
  }
 },
 "nbformat": 4,
 "nbformat_minor": 4
}
